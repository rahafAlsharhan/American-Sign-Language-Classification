{
  "nbformat": 4,
  "nbformat_minor": 0,
  "metadata": {
    "colab": {
      "provenance": []
    },
    "kernelspec": {
      "name": "python3",
      "display_name": "Python 3"
    },
    "language_info": {
      "name": "python"
    }
  },
  "cells": [
    {
      "cell_type": "code",
      "execution_count": 2,
      "metadata": {
        "id": "bJNJcXn9hPo0"
      },
      "outputs": [],
      "source": [
        "import numpy as np\n",
        "import pandas as pd\n",
        "import matplotlib.pyplot as plt\n",
        "import seaborn as sns\n",
        "import os\n",
        "import tensorflow as tf\n",
        "import tensorflow_hub as hub\n",
        "import cv2\n",
        "from sklearn.model_selection import train_test_split\n",
        "# import keras_efficientnet_v2\n",
        "from tensorflow.keras.applications import efficientnet\n",
        "from tensorflow.keras.models import Sequential, load_model\n",
        "from tensorflow.keras.layers import Dense, Activation, Conv2D, Flatten, Dropout, MaxPooling2D, BatchNormalization, GlobalAveragePooling2D, Input\n",
        "from tensorflow.keras.preprocessing.image import ImageDataGenerator\n",
        "from keras import regularizers\n",
        "from tensorflow.keras import metrics, optimizers, Sequential, activations, callbacks\n",
        "from sklearn.metrics import f1_score, classification_report, confusion_matrix, accuracy_score\n",
        "import keras.backend as K\n",
        "from tensorflow import keras\n",
        "import warnings\n",
        "warnings.filterwarnings('ignore')"
      ]
    },
    {
      "cell_type": "code",
      "source": [
        "train_dir = '/content/drive/MyDrive/IP_dataset_minimized/Train_Alphabet'\n",
        "test_dir = '/content/drive/MyDrive/IP_dataset_minimized/Test_Alphabet'"
      ],
      "metadata": {
        "id": "BMhRb40AhV73"
      },
      "execution_count": 3,
      "outputs": []
    },
    {
      "cell_type": "code",
      "source": [
        "def load_df(dir_path):\n",
        "    df = {\n",
        "        'filename': [],\n",
        "        'label': []\n",
        "    }\n",
        "    classes = os.listdir(dir_path)\n",
        "    for c in classes:\n",
        "        path = dir_path + '/' + c\n",
        "\n",
        "        img_paths = os.listdir(path)\n",
        "\n",
        "        for img_path in img_paths:\n",
        "            df['filename'].append(c + '/' + img_path)\n",
        "            df['label'].append(c)\n",
        "\n",
        "    df = pd.DataFrame(df)\n",
        "    return df\n",
        "\n",
        "train_df = load_df(train_dir)\n",
        "test_df = load_df(test_dir)"
      ],
      "metadata": {
        "id": "3_pGZbgthZwJ"
      },
      "execution_count": 4,
      "outputs": []
    },
    {
      "cell_type": "code",
      "source": [
        "train_df.sample(5)"
      ],
      "metadata": {
        "colab": {
          "base_uri": "https://localhost:8080/",
          "height": 206
        },
        "id": "UNPii_Jqhd54",
        "outputId": "df48f8a6-426a-458b-f961-54ad47c1dec5"
      },
      "execution_count": 5,
      "outputs": [
        {
          "output_type": "execute_result",
          "data": {
            "text/plain": [
              "                                               filename label\n",
              "1608  K/f78163d4-7ffa-4a6f-8177-727671d4399d.rgb_000...     K\n",
              "3652  Y/Copy of fd2dcc22-19cd-4410-8a39-1b139856a326...     Y\n",
              "1116  F/ebc8b786-f8f5-4d80-944d-cefb6fe14aba.rgb_000...     F\n",
              "4183  U/eb920ee9-5844-40bf-895f-ef2253595949.rgb_000...     U\n",
              "1056  E/faf8a707-b607-4fa5-889e-d6996dc91e6c.rgb_000...     E"
            ],
            "text/html": [
              "\n",
              "  <div id=\"df-86930b71-1c5d-4ec3-bb2d-77a56884c29a\" class=\"colab-df-container\">\n",
              "    <div>\n",
              "<style scoped>\n",
              "    .dataframe tbody tr th:only-of-type {\n",
              "        vertical-align: middle;\n",
              "    }\n",
              "\n",
              "    .dataframe tbody tr th {\n",
              "        vertical-align: top;\n",
              "    }\n",
              "\n",
              "    .dataframe thead th {\n",
              "        text-align: right;\n",
              "    }\n",
              "</style>\n",
              "<table border=\"1\" class=\"dataframe\">\n",
              "  <thead>\n",
              "    <tr style=\"text-align: right;\">\n",
              "      <th></th>\n",
              "      <th>filename</th>\n",
              "      <th>label</th>\n",
              "    </tr>\n",
              "  </thead>\n",
              "  <tbody>\n",
              "    <tr>\n",
              "      <th>1608</th>\n",
              "      <td>K/f78163d4-7ffa-4a6f-8177-727671d4399d.rgb_000...</td>\n",
              "      <td>K</td>\n",
              "    </tr>\n",
              "    <tr>\n",
              "      <th>3652</th>\n",
              "      <td>Y/Copy of fd2dcc22-19cd-4410-8a39-1b139856a326...</td>\n",
              "      <td>Y</td>\n",
              "    </tr>\n",
              "    <tr>\n",
              "      <th>1116</th>\n",
              "      <td>F/ebc8b786-f8f5-4d80-944d-cefb6fe14aba.rgb_000...</td>\n",
              "      <td>F</td>\n",
              "    </tr>\n",
              "    <tr>\n",
              "      <th>4183</th>\n",
              "      <td>U/eb920ee9-5844-40bf-895f-ef2253595949.rgb_000...</td>\n",
              "      <td>U</td>\n",
              "    </tr>\n",
              "    <tr>\n",
              "      <th>1056</th>\n",
              "      <td>E/faf8a707-b607-4fa5-889e-d6996dc91e6c.rgb_000...</td>\n",
              "      <td>E</td>\n",
              "    </tr>\n",
              "  </tbody>\n",
              "</table>\n",
              "</div>\n",
              "    <div class=\"colab-df-buttons\">\n",
              "\n",
              "  <div class=\"colab-df-container\">\n",
              "    <button class=\"colab-df-convert\" onclick=\"convertToInteractive('df-86930b71-1c5d-4ec3-bb2d-77a56884c29a')\"\n",
              "            title=\"Convert this dataframe to an interactive table.\"\n",
              "            style=\"display:none;\">\n",
              "\n",
              "  <svg xmlns=\"http://www.w3.org/2000/svg\" height=\"24px\" viewBox=\"0 -960 960 960\">\n",
              "    <path d=\"M120-120v-720h720v720H120Zm60-500h600v-160H180v160Zm220 220h160v-160H400v160Zm0 220h160v-160H400v160ZM180-400h160v-160H180v160Zm440 0h160v-160H620v160ZM180-180h160v-160H180v160Zm440 0h160v-160H620v160Z\"/>\n",
              "  </svg>\n",
              "    </button>\n",
              "\n",
              "  <style>\n",
              "    .colab-df-container {\n",
              "      display:flex;\n",
              "      gap: 12px;\n",
              "    }\n",
              "\n",
              "    .colab-df-convert {\n",
              "      background-color: #E8F0FE;\n",
              "      border: none;\n",
              "      border-radius: 50%;\n",
              "      cursor: pointer;\n",
              "      display: none;\n",
              "      fill: #1967D2;\n",
              "      height: 32px;\n",
              "      padding: 0 0 0 0;\n",
              "      width: 32px;\n",
              "    }\n",
              "\n",
              "    .colab-df-convert:hover {\n",
              "      background-color: #E2EBFA;\n",
              "      box-shadow: 0px 1px 2px rgba(60, 64, 67, 0.3), 0px 1px 3px 1px rgba(60, 64, 67, 0.15);\n",
              "      fill: #174EA6;\n",
              "    }\n",
              "\n",
              "    .colab-df-buttons div {\n",
              "      margin-bottom: 4px;\n",
              "    }\n",
              "\n",
              "    [theme=dark] .colab-df-convert {\n",
              "      background-color: #3B4455;\n",
              "      fill: #D2E3FC;\n",
              "    }\n",
              "\n",
              "    [theme=dark] .colab-df-convert:hover {\n",
              "      background-color: #434B5C;\n",
              "      box-shadow: 0px 1px 3px 1px rgba(0, 0, 0, 0.15);\n",
              "      filter: drop-shadow(0px 1px 2px rgba(0, 0, 0, 0.3));\n",
              "      fill: #FFFFFF;\n",
              "    }\n",
              "  </style>\n",
              "\n",
              "    <script>\n",
              "      const buttonEl =\n",
              "        document.querySelector('#df-86930b71-1c5d-4ec3-bb2d-77a56884c29a button.colab-df-convert');\n",
              "      buttonEl.style.display =\n",
              "        google.colab.kernel.accessAllowed ? 'block' : 'none';\n",
              "\n",
              "      async function convertToInteractive(key) {\n",
              "        const element = document.querySelector('#df-86930b71-1c5d-4ec3-bb2d-77a56884c29a');\n",
              "        const dataTable =\n",
              "          await google.colab.kernel.invokeFunction('convertToInteractive',\n",
              "                                                    [key], {});\n",
              "        if (!dataTable) return;\n",
              "\n",
              "        const docLinkHtml = 'Like what you see? Visit the ' +\n",
              "          '<a target=\"_blank\" href=https://colab.research.google.com/notebooks/data_table.ipynb>data table notebook</a>'\n",
              "          + ' to learn more about interactive tables.';\n",
              "        element.innerHTML = '';\n",
              "        dataTable['output_type'] = 'display_data';\n",
              "        await google.colab.output.renderOutput(dataTable, element);\n",
              "        const docLink = document.createElement('div');\n",
              "        docLink.innerHTML = docLinkHtml;\n",
              "        element.appendChild(docLink);\n",
              "      }\n",
              "    </script>\n",
              "  </div>\n",
              "\n",
              "\n",
              "<div id=\"df-2f721a78-dcd9-4db1-b324-90e3d13f13be\">\n",
              "  <button class=\"colab-df-quickchart\" onclick=\"quickchart('df-2f721a78-dcd9-4db1-b324-90e3d13f13be')\"\n",
              "            title=\"Suggest charts\"\n",
              "            style=\"display:none;\">\n",
              "\n",
              "<svg xmlns=\"http://www.w3.org/2000/svg\" height=\"24px\"viewBox=\"0 0 24 24\"\n",
              "     width=\"24px\">\n",
              "    <g>\n",
              "        <path d=\"M19 3H5c-1.1 0-2 .9-2 2v14c0 1.1.9 2 2 2h14c1.1 0 2-.9 2-2V5c0-1.1-.9-2-2-2zM9 17H7v-7h2v7zm4 0h-2V7h2v10zm4 0h-2v-4h2v4z\"/>\n",
              "    </g>\n",
              "</svg>\n",
              "  </button>\n",
              "\n",
              "<style>\n",
              "  .colab-df-quickchart {\n",
              "      --bg-color: #E8F0FE;\n",
              "      --fill-color: #1967D2;\n",
              "      --hover-bg-color: #E2EBFA;\n",
              "      --hover-fill-color: #174EA6;\n",
              "      --disabled-fill-color: #AAA;\n",
              "      --disabled-bg-color: #DDD;\n",
              "  }\n",
              "\n",
              "  [theme=dark] .colab-df-quickchart {\n",
              "      --bg-color: #3B4455;\n",
              "      --fill-color: #D2E3FC;\n",
              "      --hover-bg-color: #434B5C;\n",
              "      --hover-fill-color: #FFFFFF;\n",
              "      --disabled-bg-color: #3B4455;\n",
              "      --disabled-fill-color: #666;\n",
              "  }\n",
              "\n",
              "  .colab-df-quickchart {\n",
              "    background-color: var(--bg-color);\n",
              "    border: none;\n",
              "    border-radius: 50%;\n",
              "    cursor: pointer;\n",
              "    display: none;\n",
              "    fill: var(--fill-color);\n",
              "    height: 32px;\n",
              "    padding: 0;\n",
              "    width: 32px;\n",
              "  }\n",
              "\n",
              "  .colab-df-quickchart:hover {\n",
              "    background-color: var(--hover-bg-color);\n",
              "    box-shadow: 0 1px 2px rgba(60, 64, 67, 0.3), 0 1px 3px 1px rgba(60, 64, 67, 0.15);\n",
              "    fill: var(--button-hover-fill-color);\n",
              "  }\n",
              "\n",
              "  .colab-df-quickchart-complete:disabled,\n",
              "  .colab-df-quickchart-complete:disabled:hover {\n",
              "    background-color: var(--disabled-bg-color);\n",
              "    fill: var(--disabled-fill-color);\n",
              "    box-shadow: none;\n",
              "  }\n",
              "\n",
              "  .colab-df-spinner {\n",
              "    border: 2px solid var(--fill-color);\n",
              "    border-color: transparent;\n",
              "    border-bottom-color: var(--fill-color);\n",
              "    animation:\n",
              "      spin 1s steps(1) infinite;\n",
              "  }\n",
              "\n",
              "  @keyframes spin {\n",
              "    0% {\n",
              "      border-color: transparent;\n",
              "      border-bottom-color: var(--fill-color);\n",
              "      border-left-color: var(--fill-color);\n",
              "    }\n",
              "    20% {\n",
              "      border-color: transparent;\n",
              "      border-left-color: var(--fill-color);\n",
              "      border-top-color: var(--fill-color);\n",
              "    }\n",
              "    30% {\n",
              "      border-color: transparent;\n",
              "      border-left-color: var(--fill-color);\n",
              "      border-top-color: var(--fill-color);\n",
              "      border-right-color: var(--fill-color);\n",
              "    }\n",
              "    40% {\n",
              "      border-color: transparent;\n",
              "      border-right-color: var(--fill-color);\n",
              "      border-top-color: var(--fill-color);\n",
              "    }\n",
              "    60% {\n",
              "      border-color: transparent;\n",
              "      border-right-color: var(--fill-color);\n",
              "    }\n",
              "    80% {\n",
              "      border-color: transparent;\n",
              "      border-right-color: var(--fill-color);\n",
              "      border-bottom-color: var(--fill-color);\n",
              "    }\n",
              "    90% {\n",
              "      border-color: transparent;\n",
              "      border-bottom-color: var(--fill-color);\n",
              "    }\n",
              "  }\n",
              "</style>\n",
              "\n",
              "  <script>\n",
              "    async function quickchart(key) {\n",
              "      const quickchartButtonEl =\n",
              "        document.querySelector('#' + key + ' button');\n",
              "      quickchartButtonEl.disabled = true;  // To prevent multiple clicks.\n",
              "      quickchartButtonEl.classList.add('colab-df-spinner');\n",
              "      try {\n",
              "        const charts = await google.colab.kernel.invokeFunction(\n",
              "            'suggestCharts', [key], {});\n",
              "      } catch (error) {\n",
              "        console.error('Error during call to suggestCharts:', error);\n",
              "      }\n",
              "      quickchartButtonEl.classList.remove('colab-df-spinner');\n",
              "      quickchartButtonEl.classList.add('colab-df-quickchart-complete');\n",
              "    }\n",
              "    (() => {\n",
              "      let quickchartButtonEl =\n",
              "        document.querySelector('#df-2f721a78-dcd9-4db1-b324-90e3d13f13be button');\n",
              "      quickchartButtonEl.style.display =\n",
              "        google.colab.kernel.accessAllowed ? 'block' : 'none';\n",
              "    })();\n",
              "  </script>\n",
              "</div>\n",
              "\n",
              "    </div>\n",
              "  </div>\n"
            ],
            "application/vnd.google.colaboratory.intrinsic+json": {
              "type": "dataframe",
              "summary": "{\n  \"name\": \"train_df\",\n  \"rows\": 5,\n  \"fields\": [\n    {\n      \"column\": \"filename\",\n      \"properties\": {\n        \"dtype\": \"string\",\n        \"num_unique_values\": 5,\n        \"samples\": [\n          \"Y/Copy of fd2dcc22-19cd-4410-8a39-1b139856a326.rgb_0000.png\",\n          \"E/faf8a707-b607-4fa5-889e-d6996dc91e6c.rgb_0000.png\",\n          \"F/ebc8b786-f8f5-4d80-944d-cefb6fe14aba.rgb_0000.png\"\n        ],\n        \"semantic_type\": \"\",\n        \"description\": \"\"\n      }\n    },\n    {\n      \"column\": \"label\",\n      \"properties\": {\n        \"dtype\": \"string\",\n        \"num_unique_values\": 5,\n        \"samples\": [\n          \"Y\",\n          \"E\",\n          \"F\"\n        ],\n        \"semantic_type\": \"\",\n        \"description\": \"\"\n      }\n    }\n  ]\n}"
            }
          },
          "metadata": {},
          "execution_count": 5
        }
      ]
    },
    {
      "cell_type": "code",
      "source": [
        "X = train_df['filename']\n",
        "y = train_df['label']\n",
        "\n",
        "X_train, X_valid, y_train, y_valid = train_test_split(X, y, stratify=y, random_state=1, test_size=0.2)\n",
        "print(X_train.shape)\n",
        "print(X_valid.shape)"
      ],
      "metadata": {
        "colab": {
          "base_uri": "https://localhost:8080/"
        },
        "id": "h1FqnxWthtrW",
        "outputId": "272ac201-1eed-4794-c551-9a1298b88589"
      },
      "execution_count": 6,
      "outputs": [
        {
          "output_type": "stream",
          "name": "stdout",
          "text": [
            "(3435,)\n",
            "(859,)\n"
          ]
        }
      ]
    },
    {
      "cell_type": "code",
      "source": [
        "train = pd.concat([X_train, y_train], axis=1)\n",
        "valid = pd.concat([X_valid, y_valid], axis=1)\n",
        "test = test_df"
      ],
      "metadata": {
        "id": "Ew-0zsPyhyBD"
      },
      "execution_count": 7,
      "outputs": []
    },
    {
      "cell_type": "code",
      "source": [
        "train['label'].value_counts()"
      ],
      "metadata": {
        "colab": {
          "base_uri": "https://localhost:8080/"
        },
        "id": "nSEXVLCMh0Xs",
        "outputId": "1d225e43-b908-4676-c940-300c0ddb632f"
      },
      "execution_count": 8,
      "outputs": [
        {
          "output_type": "execute_result",
          "data": {
            "text/plain": [
              "label\n",
              "U        129\n",
              "V        128\n",
              "Blank    128\n",
              "O        128\n",
              "D        128\n",
              "S        127\n",
              "F        127\n",
              "B        127\n",
              "E        127\n",
              "M        127\n",
              "I        127\n",
              "G        127\n",
              "J        127\n",
              "L        127\n",
              "K        127\n",
              "W        127\n",
              "N        127\n",
              "T        127\n",
              "X        127\n",
              "Q        127\n",
              "Z        127\n",
              "R        127\n",
              "Y        127\n",
              "P        127\n",
              "H        127\n",
              "A        127\n",
              "C        127\n",
              "Name: count, dtype: int64"
            ]
          },
          "metadata": {},
          "execution_count": 8
        }
      ]
    },
    {
      "cell_type": "code",
      "source": [
        "valid['label'].value_counts()"
      ],
      "metadata": {
        "colab": {
          "base_uri": "https://localhost:8080/"
        },
        "id": "xSZ6NNPuh3NI",
        "outputId": "a8075863-f477-4ee6-b484-7366ee1b828e"
      },
      "execution_count": 9,
      "outputs": [
        {
          "output_type": "execute_result",
          "data": {
            "text/plain": [
              "label\n",
              "K        32\n",
              "Z        32\n",
              "C        32\n",
              "H        32\n",
              "N        32\n",
              "I        32\n",
              "J        32\n",
              "T        32\n",
              "B        32\n",
              "Y        32\n",
              "U        32\n",
              "G        32\n",
              "L        32\n",
              "Blank    32\n",
              "E        32\n",
              "S        32\n",
              "X        32\n",
              "F        32\n",
              "A        32\n",
              "W        32\n",
              "R        32\n",
              "P        32\n",
              "D        31\n",
              "M        31\n",
              "Q        31\n",
              "O        31\n",
              "V        31\n",
              "Name: count, dtype: int64"
            ]
          },
          "metadata": {},
          "execution_count": 9
        }
      ]
    },
    {
      "cell_type": "code",
      "source": [
        "test['label'].value_counts()"
      ],
      "metadata": {
        "colab": {
          "base_uri": "https://localhost:8080/"
        },
        "id": "TMIvbVQUh77H",
        "outputId": "c0aa4c85-dcdc-46bd-d458-bd646fae0a55"
      },
      "execution_count": 10,
      "outputs": [
        {
          "output_type": "execute_result",
          "data": {
            "text/plain": [
              "label\n",
              "Z        39\n",
              "H        39\n",
              "Blank    39\n",
              "A        39\n",
              "B        39\n",
              "D        39\n",
              "J        39\n",
              "G        39\n",
              "L        39\n",
              "M        39\n",
              "E        39\n",
              "I        39\n",
              "K        39\n",
              "F        39\n",
              "Y        39\n",
              "N        39\n",
              "T        39\n",
              "W        39\n",
              "V        39\n",
              "S        39\n",
              "R        39\n",
              "Q        39\n",
              "P        39\n",
              "U        39\n",
              "O        39\n",
              "X        39\n",
              "C        39\n",
              "Name: count, dtype: int64"
            ]
          },
          "metadata": {},
          "execution_count": 10
        }
      ]
    },
    {
      "cell_type": "code",
      "source": [
        "IMAGE_SIZE = (224, 224)\n",
        "\n",
        "datagen = ImageDataGenerator(\n",
        "    rescale=1./255,\n",
        "#     rotation_range=40,\n",
        "    zoom_range=0.2,\n",
        "    width_shift_range=0.05,\n",
        "    height_shift_range=0.05,\n",
        "#     brightness_range=[0.5, 1.0],\n",
        ")\n",
        "\n",
        "train_generator = datagen.flow_from_dataframe(\n",
        "    dataframe = train,\n",
        "    directory = train_dir,\n",
        "    x_col='filename',\n",
        "    y_col='label',\n",
        "    batch_size=32,\n",
        "    # color_mode=\"rgb\",\n",
        "    seed=42,\n",
        "    shuffle=True,\n",
        "    class_mode='sparse',\n",
        "    target_size=IMAGE_SIZE\n",
        ")\n",
        "\n",
        "valid_generator=datagen.flow_from_dataframe(\n",
        "    dataframe=valid,\n",
        "    directory=train_dir,\n",
        "    x_col=\"filename\",\n",
        "    y_col=\"label\",\n",
        "    batch_size=32,\n",
        "    # color_mode=\"rgb\",\n",
        "    seed=42,\n",
        "    shuffle=True,\n",
        "    class_mode=\"sparse\",\n",
        "    target_size=IMAGE_SIZE\n",
        ")\n",
        "\n",
        "test_datagen=ImageDataGenerator(rescale=1./255.)\n",
        "\n",
        "test_generator=test_datagen.flow_from_dataframe(\n",
        "    dataframe=test,\n",
        "    directory=test_dir,\n",
        "    x_col=\"filename\",\n",
        "    y_col=None,\n",
        "    batch_size=1,\n",
        "    # color_mode=\"rgb\",\n",
        "    seed=42,\n",
        "    shuffle=False,\n",
        "    class_mode=None,\n",
        "    target_size=IMAGE_SIZE\n",
        ")"
      ],
      "metadata": {
        "colab": {
          "base_uri": "https://localhost:8080/"
        },
        "id": "rXzEsEiuh9ib",
        "outputId": "621cecdf-5199-4069-986f-1c18cfd04152"
      },
      "execution_count": 11,
      "outputs": [
        {
          "output_type": "stream",
          "name": "stdout",
          "text": [
            "Found 3435 validated image filenames belonging to 27 classes.\n",
            "Found 859 validated image filenames belonging to 27 classes.\n",
            "Found 1053 validated image filenames.\n"
          ]
        }
      ]
    },
    {
      "cell_type": "code",
      "source": [
        "tf.keras.backend.clear_session()\n",
        "num_classes = 27\n",
        "\n",
        "backbone = tf.keras.applications.EfficientNetB0(include_top=False)\n",
        "backbone.trainable = False\n",
        "\n",
        "inputs = Input(shape=IMAGE_SIZE + (3,), name='inputs')\n",
        "x = backbone(inputs, training=False)\n",
        "x = GlobalAveragePooling2D()(x)\n",
        "x = Dropout(0.2)(x)\n",
        "# x = Dense(100, activation='relu')(x)\n",
        "outputs = Dense(27, activation='softmax')(x)\n",
        "\n",
        "model_efficientnet = tf.keras.Model(inputs=inputs, outputs=outputs, name='efficientnet_model')\n",
        "model_efficientnet.summary()"
      ],
      "metadata": {
        "colab": {
          "base_uri": "https://localhost:8080/"
        },
        "id": "91CJHXqsiMMs",
        "outputId": "c199771e-a978-42d8-a300-5a31064d34e2"
      },
      "execution_count": 12,
      "outputs": [
        {
          "output_type": "stream",
          "name": "stdout",
          "text": [
            "Downloading data from https://storage.googleapis.com/keras-applications/efficientnetb0_notop.h5\n",
            "16705208/16705208 [==============================] - 0s 0us/step\n",
            "Model: \"efficientnet_model\"\n",
            "_________________________________________________________________\n",
            " Layer (type)                Output Shape              Param #   \n",
            "=================================================================\n",
            " inputs (InputLayer)         [(None, 224, 224, 3)]     0         \n",
            "                                                                 \n",
            " efficientnetb0 (Functional  (None, None, None, 1280   4049571   \n",
            " )                           )                                   \n",
            "                                                                 \n",
            " global_average_pooling2d (  (None, 1280)              0         \n",
            " GlobalAveragePooling2D)                                         \n",
            "                                                                 \n",
            " dropout (Dropout)           (None, 1280)              0         \n",
            "                                                                 \n",
            " dense (Dense)               (None, 27)                34587     \n",
            "                                                                 \n",
            "=================================================================\n",
            "Total params: 4084158 (15.58 MB)\n",
            "Trainable params: 34587 (135.11 KB)\n",
            "Non-trainable params: 4049571 (15.45 MB)\n",
            "_________________________________________________________________\n"
          ]
        }
      ]
    },
    {
      "cell_type": "code",
      "source": [
        "tf.keras.backend.clear_session()\n",
        "num_classes = 27\n",
        "model_url = 'https://tfhub.dev/google/imagenet/efficientnet_v2_imagenet1k_b0/feature_vector/2'\n",
        "\n",
        "feature_extractor_layer = hub.KerasLayer(model_url,\n",
        "                                         trainable=False, # freeze the underlying patterns\n",
        "                                         name='feature_extraction_layer',\n",
        "                                         input_shape=IMAGE_SIZE + (3,))\n",
        "# Create our own model\n",
        "# inputs = Input(shape=IMAGE_SIZE + (3,), name='inputs')\n",
        "# x = feature_extractor_layer(inputs, training=False)\n",
        "# x = Dropout(0.2)(x)\n",
        "# outputs = Dense(27, activation='softmax')(x)\n",
        "\n",
        "# model_efficientnet = tf.keras.Model(inputs=inputs, outputs=outputs, name='efficientnet_model')\n",
        "\n",
        "model_efficientnet = tf.keras.Sequential([\n",
        "    feature_extractor_layer, # use the feature extraction layer as the base\n",
        "    Dropout(0.2),\n",
        "    Dense(num_classes, activation='softmax') # create our own output layer\n",
        "])\n",
        "\n",
        "model_efficientnet.summary()"
      ],
      "metadata": {
        "colab": {
          "base_uri": "https://localhost:8080/"
        },
        "id": "Fd3-I6wTiQM6",
        "outputId": "5d0d0897-096a-46f3-faa9-d6edd20e33c5"
      },
      "execution_count": 13,
      "outputs": [
        {
          "output_type": "stream",
          "name": "stdout",
          "text": [
            "Model: \"sequential\"\n",
            "_________________________________________________________________\n",
            " Layer (type)                Output Shape              Param #   \n",
            "=================================================================\n",
            " feature_extraction_layer (  (None, 1280)              5919312   \n",
            " KerasLayer)                                                     \n",
            "                                                                 \n",
            " dropout (Dropout)           (None, 1280)              0         \n",
            "                                                                 \n",
            " dense (Dense)               (None, 27)                34587     \n",
            "                                                                 \n",
            "=================================================================\n",
            "Total params: 5953899 (22.71 MB)\n",
            "Trainable params: 34587 (135.11 KB)\n",
            "Non-trainable params: 5919312 (22.58 MB)\n",
            "_________________________________________________________________\n"
          ]
        }
      ]
    },
    {
      "cell_type": "code",
      "source": [
        "model_efficientnet.compile(optimizer=keras.optimizers.Adam(),\n",
        "                           loss='sparse_categorical_crossentropy',\n",
        "                           metrics=[\"accuracy\"])"
      ],
      "metadata": {
        "id": "BwtAG5HEiUUr"
      },
      "execution_count": 14,
      "outputs": []
    },
    {
      "cell_type": "code",
      "source": [
        "cb = [\n",
        "#     callbacks.EarlyStopping(monitor='val_loss', patience=5, restore_best_weights=True),\n",
        "    callbacks.ModelCheckpoint('model_efficientnet.hdf5', save_best_only=True, monitor='val_loss')\n",
        "]\n",
        "\n",
        "history_efficientnet = model_efficientnet.fit(\n",
        "    train_generator,\n",
        "    validation_data = valid_generator,\n",
        "    epochs = 20,\n",
        "    batch_size = 128,\n",
        "    verbose = 1,\n",
        "    callbacks = cb\n",
        ")"
      ],
      "metadata": {
        "colab": {
          "base_uri": "https://localhost:8080/"
        },
        "id": "whbLlkuSiWv4",
        "outputId": "5914dfa9-62b6-47fd-f4ba-5d4ffcf64802"
      },
      "execution_count": 15,
      "outputs": [
        {
          "output_type": "stream",
          "name": "stdout",
          "text": [
            "Epoch 1/20\n",
            "108/108 [==============================] - 1200s 11s/step - loss: 1.9845 - accuracy: 0.5467 - val_loss: 1.1502 - val_accuracy: 0.8184\n",
            "Epoch 2/20\n",
            "108/108 [==============================] - 396s 4s/step - loss: 0.8631 - accuracy: 0.8582 - val_loss: 0.6823 - val_accuracy: 0.8836\n",
            "Epoch 3/20\n",
            "108/108 [==============================] - 387s 4s/step - loss: 0.5633 - accuracy: 0.9112 - val_loss: 0.5012 - val_accuracy: 0.9045\n",
            "Epoch 4/20\n",
            "108/108 [==============================] - 386s 4s/step - loss: 0.4215 - accuracy: 0.9339 - val_loss: 0.3790 - val_accuracy: 0.9499\n",
            "Epoch 5/20\n",
            "108/108 [==============================] - 389s 4s/step - loss: 0.3322 - accuracy: 0.9543 - val_loss: 0.3270 - val_accuracy: 0.9534\n",
            "Epoch 6/20\n",
            "108/108 [==============================] - 397s 4s/step - loss: 0.2738 - accuracy: 0.9642 - val_loss: 0.2946 - val_accuracy: 0.9511\n",
            "Epoch 7/20\n",
            "108/108 [==============================] - 387s 4s/step - loss: 0.2440 - accuracy: 0.9648 - val_loss: 0.2602 - val_accuracy: 0.9523\n",
            "Epoch 8/20\n",
            "108/108 [==============================] - 402s 4s/step - loss: 0.2067 - accuracy: 0.9726 - val_loss: 0.2236 - val_accuracy: 0.9697\n",
            "Epoch 9/20\n",
            "108/108 [==============================] - 389s 4s/step - loss: 0.1856 - accuracy: 0.9738 - val_loss: 0.1998 - val_accuracy: 0.9697\n",
            "Epoch 10/20\n",
            "108/108 [==============================] - 443s 4s/step - loss: 0.1642 - accuracy: 0.9782 - val_loss: 0.1894 - val_accuracy: 0.9662\n",
            "Epoch 11/20\n",
            "108/108 [==============================] - 388s 4s/step - loss: 0.1534 - accuracy: 0.9796 - val_loss: 0.1809 - val_accuracy: 0.9651\n",
            "Epoch 12/20\n",
            "108/108 [==============================] - 396s 4s/step - loss: 0.1370 - accuracy: 0.9820 - val_loss: 0.1682 - val_accuracy: 0.9686\n",
            "Epoch 13/20\n",
            "108/108 [==============================] - 383s 4s/step - loss: 0.1283 - accuracy: 0.9831 - val_loss: 0.1636 - val_accuracy: 0.9709\n",
            "Epoch 14/20\n",
            "108/108 [==============================] - 384s 4s/step - loss: 0.1174 - accuracy: 0.9817 - val_loss: 0.1495 - val_accuracy: 0.9756\n",
            "Epoch 15/20\n",
            "108/108 [==============================] - 392s 4s/step - loss: 0.1166 - accuracy: 0.9822 - val_loss: 0.1371 - val_accuracy: 0.9756\n",
            "Epoch 16/20\n",
            "108/108 [==============================] - 389s 4s/step - loss: 0.1018 - accuracy: 0.9892 - val_loss: 0.1251 - val_accuracy: 0.9732\n",
            "Epoch 17/20\n",
            "108/108 [==============================] - 386s 4s/step - loss: 0.0976 - accuracy: 0.9863 - val_loss: 0.1312 - val_accuracy: 0.9721\n",
            "Epoch 18/20\n",
            "108/108 [==============================] - 394s 4s/step - loss: 0.0948 - accuracy: 0.9854 - val_loss: 0.1240 - val_accuracy: 0.9721\n",
            "Epoch 19/20\n",
            "108/108 [==============================] - 387s 4s/step - loss: 0.0880 - accuracy: 0.9878 - val_loss: 0.1111 - val_accuracy: 0.9767\n",
            "Epoch 20/20\n",
            "108/108 [==============================] - 385s 4s/step - loss: 0.0832 - accuracy: 0.9889 - val_loss: 0.1114 - val_accuracy: 0.9802\n"
          ]
        }
      ]
    },
    {
      "cell_type": "code",
      "source": [
        "fig, ax = plt.subplots(nrows = 1, ncols = 2, figsize = (12,6))\n",
        "\n",
        "ax[0].plot(history_efficientnet.history['accuracy'], '-', label = 'Training Accuracy')\n",
        "ax[0].plot(history_efficientnet.history['val_accuracy'], '-', label = 'Validation Accuracy')\n",
        "ax[0].set_xlabel('Epochs')\n",
        "ax[0].set_ylabel('Accuracy')\n",
        "ax[0].set_title('Epochs & Training Accuracy', fontsize=20)\n",
        "ax[0].legend(loc='best')\n",
        "\n",
        "ax[1].plot(history_efficientnet.history['loss'], '-', label = 'Training loss')\n",
        "ax[1].plot(history_efficientnet.history['val_loss'], '-', label = 'Validation loss')\n",
        "ax[1].set_xlabel('Epochs')\n",
        "ax[1].set_ylabel('loss')\n",
        "ax[1].set_title('Epochs & Training loss', fontsize=20)\n",
        "ax[1].legend(loc='best')\n",
        "\n",
        "plt.show()"
      ],
      "metadata": {
        "colab": {
          "base_uri": "https://localhost:8080/",
          "height": 572
        },
        "id": "exE4IKC3iaR0",
        "outputId": "20544b4b-04f9-4165-b291-57a3bc15402d"
      },
      "execution_count": 16,
      "outputs": [
        {
          "output_type": "display_data",
          "data": {
            "text/plain": [
              "<Figure size 1200x600 with 2 Axes>"
            ],
            "image/png": "[encoded data removed]"
          },
          "metadata": {}
        }
      ]
    },
    {
      "cell_type": "code",
      "source": [
        "model_loaded = model_efficientnet"
      ],
      "metadata": {
        "id": "iPnqddvkicv9"
      },
      "execution_count": 17,
      "outputs": []
    },
    {
      "cell_type": "code",
      "source": [
        "test_generator.reset()\n",
        "pred = model_loaded.predict(test_generator, verbose=1)"
      ],
      "metadata": {
        "colab": {
          "base_uri": "https://localhost:8080/"
        },
        "id": "hMFN8zmfieZ4",
        "outputId": "3d92a11e-bdd2-4542-af94-b985c6f53a94"
      },
      "execution_count": 18,
      "outputs": [
        {
          "output_type": "stream",
          "name": "stdout",
          "text": [
            "1053/1053 [==============================] - 277s 263ms/step\n"
          ]
        }
      ]
    },
    {
      "cell_type": "code",
      "source": [
        "pred = np.argmax(pred,axis=1)\n",
        "labels = (train_generator.class_indices)\n",
        "labels = dict((v,k) for k,v in labels.items())\n",
        "pred = [labels[k] for k in pred]\n",
        "\n",
        "print(accuracy_score(test['label'], pred))\n",
        "print(classification_report(test['label'], pred))"
      ],
      "metadata": {
        "colab": {
          "base_uri": "https://localhost:8080/"
        },
        "id": "aD3didxaigZW",
        "outputId": "3e6f5970-c2f4-40a1-f231-4933449449d1"
      },
      "execution_count": 19,
      "outputs": [
        {
          "output_type": "stream",
          "name": "stdout",
          "text": [
            "0.9753086419753086\n",
            "              precision    recall  f1-score   support\n",
            "\n",
            "           A       1.00      1.00      1.00        39\n",
            "           B       1.00      1.00      1.00        39\n",
            "       Blank       1.00      1.00      1.00        39\n",
            "           C       1.00      0.90      0.95        39\n",
            "           D       0.93      1.00      0.96        39\n",
            "           E       0.97      1.00      0.99        39\n",
            "           F       1.00      1.00      1.00        39\n",
            "           G       0.97      0.97      0.97        39\n",
            "           H       1.00      0.97      0.99        39\n",
            "           I       1.00      1.00      1.00        39\n",
            "           J       0.93      1.00      0.96        39\n",
            "           K       0.97      1.00      0.99        39\n",
            "           L       1.00      1.00      1.00        39\n",
            "           M       0.88      0.95      0.91        39\n",
            "           N       1.00      0.79      0.89        39\n",
            "           O       0.93      0.95      0.94        39\n",
            "           P       0.97      1.00      0.99        39\n",
            "           Q       1.00      0.95      0.97        39\n",
            "           R       1.00      0.97      0.99        39\n",
            "           S       0.91      1.00      0.95        39\n",
            "           T       0.97      1.00      0.99        39\n",
            "           U       1.00      1.00      1.00        39\n",
            "           V       1.00      0.95      0.97        39\n",
            "           W       0.97      0.97      0.97        39\n",
            "           X       0.95      0.97      0.96        39\n",
            "           Y       1.00      1.00      1.00        39\n",
            "           Z       1.00      0.97      0.99        39\n",
            "\n",
            "    accuracy                           0.98      1053\n",
            "   macro avg       0.98      0.98      0.98      1053\n",
            "weighted avg       0.98      0.98      0.98      1053\n",
            "\n"
          ]
        }
      ]
    }
  ]
}