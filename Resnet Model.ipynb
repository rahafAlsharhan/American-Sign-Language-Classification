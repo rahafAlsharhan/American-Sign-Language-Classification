{
  "metadata": {
    "kernelspec": {
      "language": "python",
      "display_name": "Python 3",
      "name": "python3"
    },
    "language_info": {
      "pygments_lexer": "ipython3",
      "nbconvert_exporter": "python",
      "version": "3.6.4",
      "file_extension": ".py",
      "codemirror_mode": {
        "name": "ipython",
        "version": 3
      },
      "name": "python",
      "mimetype": "text/x-python"
    },
    "kaggle": {
      "accelerator": "nvidiaTeslaT4",
      "dataSources": [
        {
          "sourceId": 3821116,
          "sourceType": "datasetVersion",
          "datasetId": 2275641
        }
      ],
      "dockerImageVersionId": 30350,
      "isInternetEnabled": false,
      "language": "python",
      "sourceType": "notebook",
      "isGpuEnabled": true
    },
    "colab": {
      "provenance": []
    }
  },
  "nbformat_minor": 0,
  "nbformat": 4,
  "cells": [
    {
      "cell_type": "code",
      "source": [
        "import numpy as np\n",
        "import pandas as pd\n",
        "import matplotlib.pyplot as plt\n",
        "import seaborn as sns\n",
        "import os\n",
        "import tensorflow as tf\n",
        "import cv2\n",
        "from sklearn.model_selection import train_test_split\n",
        "from tensorflow.keras.models import Sequential, load_model\n",
        "from tensorflow.keras.layers import Dense, Activation, Conv2D, Flatten, Dropout, MaxPooling2D, BatchNormalization, GlobalAveragePooling2D, Input\n",
        "from tensorflow.keras.preprocessing.image import ImageDataGenerator\n",
        "from keras import regularizers\n",
        "from tensorflow.keras import metrics, optimizers, Sequential, activations, callbacks\n",
        "from sklearn.metrics import f1_score, classification_report, confusion_matrix, accuracy_score\n",
        "import keras.backend as K\n",
        "from tensorflow import keras\n",
        "import warnings\n",
        "warnings.filterwarnings('ignore')"
      ],
      "metadata": {
        "_uuid": "8f2839f25d086af736a60e9eeb907d3b93b6e0e5",
        "_cell_guid": "b1076dfc-b9ad-4769-8c92-a6c4dae69d19",
        "execution": {
          "iopub.status.busy": "2022-12-28T01:53:41.53879Z",
          "iopub.execute_input": "2022-12-28T01:53:41.539584Z",
          "iopub.status.idle": "2022-12-28T01:53:53.841857Z",
          "shell.execute_reply.started": "2022-12-28T01:53:41.539547Z",
          "shell.execute_reply": "2022-12-28T01:53:53.840761Z"
        },
        "id": "uQXlTeDti6Es",
        "trusted": true
      },
      "execution_count": null,
      "outputs": []
    },
    {
      "cell_type": "code",
      "source": [
        "from google.colab import drive\n",
        "drive.mount('/content/drive')"
      ],
      "metadata": {
        "colab": {
          "base_uri": "https://localhost:8080/"
        },
        "id": "4OLPd_K9nFfK",
        "outputId": "52f7dd0d-0c39-4996-ed7f-330bc0c3a8fe"
      },
      "execution_count": null,
      "outputs": [
        {
          "output_type": "stream",
          "name": "stdout",
          "text": [
            "Mounted at /content/drive\n"
          ]
        }
      ]
    },
    {
      "cell_type": "markdown",
      "source": [
        "# Getting the data"
      ],
      "metadata": {
        "id": "nWqjnE2Ti6Ex"
      }
    },
    {
      "cell_type": "code",
      "source": [
        "train_dir = '/content/drive/MyDrive/Train_Alphabet'\n",
        "test_dir = '/content/drive/MyDrive/Test_Alphabet'"
      ],
      "metadata": {
        "id": "7WiFhEHbi6E0",
        "execution": {
          "iopub.status.busy": "2023-01-05T09:34:03.14849Z",
          "iopub.execute_input": "2023-01-05T09:34:03.149254Z",
          "iopub.status.idle": "2023-01-05T09:34:03.154376Z",
          "shell.execute_reply.started": "2023-01-05T09:34:03.149217Z",
          "shell.execute_reply": "2023-01-05T09:34:03.153393Z"
        },
        "trusted": true
      },
      "execution_count": null,
      "outputs": []
    },
    {
      "cell_type": "code",
      "source": [
        "def load_df(dir_path):\n",
        "    df = {\n",
        "        'filename': [],\n",
        "        'label': []\n",
        "    }\n",
        "    classes = os.listdir(dir_path)\n",
        "    for c in classes:\n",
        "        path = dir_path + '/' + c\n",
        "\n",
        "        img_paths = os.listdir(path)\n",
        "\n",
        "        for img_path in img_paths:\n",
        "            df['filename'].append(c + '/' + img_path)\n",
        "            df['label'].append(c)\n",
        "\n",
        "    df = pd.DataFrame(df)\n",
        "    return df\n",
        "\n",
        "train_df = load_df(train_dir)\n",
        "test_df = load_df(test_dir)"
      ],
      "metadata": {
        "id": "BC9iCr66i6E1",
        "execution": {
          "iopub.status.busy": "2023-01-05T09:34:05.98132Z",
          "iopub.execute_input": "2023-01-05T09:34:05.981692Z",
          "iopub.status.idle": "2023-01-05T09:34:06.056014Z",
          "shell.execute_reply.started": "2023-01-05T09:34:05.981661Z",
          "shell.execute_reply": "2023-01-05T09:34:06.055009Z"
        },
        "trusted": true
      },
      "execution_count": null,
      "outputs": []
    },
    {
      "cell_type": "code",
      "source": [
        "train_df.sample(5)"
      ],
      "metadata": {
        "id": "SortTGGEi6E2",
        "outputId": "28a094d6-3742-48d5-8854-647603388870",
        "execution": {
          "iopub.status.busy": "2023-01-05T09:34:08.548745Z",
          "iopub.execute_input": "2023-01-05T09:34:08.549115Z",
          "iopub.status.idle": "2023-01-05T09:34:08.562034Z",
          "shell.execute_reply.started": "2023-01-05T09:34:08.549085Z",
          "shell.execute_reply": "2023-01-05T09:34:08.560997Z"
        },
        "trusted": true,
        "colab": {
          "base_uri": "https://localhost:8080/",
          "height": 206
        }
      },
      "execution_count": null,
      "outputs": [
        {
          "output_type": "execute_result",
          "data": {
            "text/plain": [
              "                                               filename  label\n",
              "3821  A/f7338fce-d011-43f7-b576-b9c823638040.rgb_000...      A\n",
              "2839  J/fe7baa53-68bd-4c89-bf8d-51873ebcec2a.rgb_000...      J\n",
              "1432  T/e9452ec3-7349-432c-85f3-e2899443f579.rgb_000...      T\n",
              "1871  M/de283999-97fe-4b87-8f2a-c51c17c957f7.rgb_000...      M\n",
              "4072  Blank/f35c7bdc-e50c-45a5-a9c2-8c7f1c225b11.rgb...  Blank"
            ],
            "text/html": [
              "\n",
              "  <div id=\"df-c3438de2-bbb1-4256-8175-51dc44547d78\" class=\"colab-df-container\">\n",
              "    <div>\n",
              "<style scoped>\n",
              "    .dataframe tbody tr th:only-of-type {\n",
              "        vertical-align: middle;\n",
              "    }\n",
              "\n",
              "    .dataframe tbody tr th {\n",
              "        vertical-align: top;\n",
              "    }\n",
              "\n",
              "    .dataframe thead th {\n",
              "        text-align: right;\n",
              "    }\n",
              "</style>\n",
              "<table border=\"1\" class=\"dataframe\">\n",
              "  <thead>\n",
              "    <tr style=\"text-align: right;\">\n",
              "      <th></th>\n",
              "      <th>filename</th>\n",
              "      <th>label</th>\n",
              "    </tr>\n",
              "  </thead>\n",
              "  <tbody>\n",
              "    <tr>\n",
              "      <th>3821</th>\n",
              "      <td>A/f7338fce-d011-43f7-b576-b9c823638040.rgb_000...</td>\n",
              "      <td>A</td>\n",
              "    </tr>\n",
              "    <tr>\n",
              "      <th>2839</th>\n",
              "      <td>J/fe7baa53-68bd-4c89-bf8d-51873ebcec2a.rgb_000...</td>\n",
              "      <td>J</td>\n",
              "    </tr>\n",
              "    <tr>\n",
              "      <th>1432</th>\n",
              "      <td>T/e9452ec3-7349-432c-85f3-e2899443f579.rgb_000...</td>\n",
              "      <td>T</td>\n",
              "    </tr>\n",
              "    <tr>\n",
              "      <th>1871</th>\n",
              "      <td>M/de283999-97fe-4b87-8f2a-c51c17c957f7.rgb_000...</td>\n",
              "      <td>M</td>\n",
              "    </tr>\n",
              "    <tr>\n",
              "      <th>4072</th>\n",
              "      <td>Blank/f35c7bdc-e50c-45a5-a9c2-8c7f1c225b11.rgb...</td>\n",
              "      <td>Blank</td>\n",
              "    </tr>\n",
              "  </tbody>\n",
              "</table>\n",
              "</div>\n",
              "    <div class=\"colab-df-buttons\">\n",
              "\n",
              "  <div class=\"colab-df-container\">\n",
              "    <button class=\"colab-df-convert\" onclick=\"convertToInteractive('df-c3438de2-bbb1-4256-8175-51dc44547d78')\"\n",
              "            title=\"Convert this dataframe to an interactive table.\"\n",
              "            style=\"display:none;\">\n",
              "\n",
              "  <svg xmlns=\"http://www.w3.org/2000/svg\" height=\"24px\" viewBox=\"0 -960 960 960\">\n",
              "    <path d=\"M120-120v-720h720v720H120Zm60-500h600v-160H180v160Zm220 220h160v-160H400v160Zm0 220h160v-160H400v160ZM180-400h160v-160H180v160Zm440 0h160v-160H620v160ZM180-180h160v-160H180v160Zm440 0h160v-160H620v160Z\"/>\n",
              "  </svg>\n",
              "    </button>\n",
              "\n",
              "  <style>\n",
              "    .colab-df-container {\n",
              "      display:flex;\n",
              "      gap: 12px;\n",
              "    }\n",
              "\n",
              "    .colab-df-convert {\n",
              "      background-color: #E8F0FE;\n",
              "      border: none;\n",
              "      border-radius: 50%;\n",
              "      cursor: pointer;\n",
              "      display: none;\n",
              "      fill: #1967D2;\n",
              "      height: 32px;\n",
              "      padding: 0 0 0 0;\n",
              "      width: 32px;\n",
              "    }\n",
              "\n",
              "    .colab-df-convert:hover {\n",
              "      background-color: #E2EBFA;\n",
              "      box-shadow: 0px 1px 2px rgba(60, 64, 67, 0.3), 0px 1px 3px 1px rgba(60, 64, 67, 0.15);\n",
              "      fill: #174EA6;\n",
              "    }\n",
              "\n",
              "    .colab-df-buttons div {\n",
              "      margin-bottom: 4px;\n",
              "    }\n",
              "\n",
              "    [theme=dark] .colab-df-convert {\n",
              "      background-color: #3B4455;\n",
              "      fill: #D2E3FC;\n",
              "    }\n",
              "\n",
              "    [theme=dark] .colab-df-convert:hover {\n",
              "      background-color: #434B5C;\n",
              "      box-shadow: 0px 1px 3px 1px rgba(0, 0, 0, 0.15);\n",
              "      filter: drop-shadow(0px 1px 2px rgba(0, 0, 0, 0.3));\n",
              "      fill: #FFFFFF;\n",
              "    }\n",
              "  </style>\n",
              "\n",
              "    <script>\n",
              "      const buttonEl =\n",
              "        document.querySelector('#df-c3438de2-bbb1-4256-8175-51dc44547d78 button.colab-df-convert');\n",
              "      buttonEl.style.display =\n",
              "        google.colab.kernel.accessAllowed ? 'block' : 'none';\n",
              "\n",
              "      async function convertToInteractive(key) {\n",
              "        const element = document.querySelector('#df-c3438de2-bbb1-4256-8175-51dc44547d78');\n",
              "        const dataTable =\n",
              "          await google.colab.kernel.invokeFunction('convertToInteractive',\n",
              "                                                    [key], {});\n",
              "        if (!dataTable) return;\n",
              "\n",
              "        const docLinkHtml = 'Like what you see? Visit the ' +\n",
              "          '<a target=\"_blank\" href=https://colab.research.google.com/notebooks/data_table.ipynb>data table notebook</a>'\n",
              "          + ' to learn more about interactive tables.';\n",
              "        element.innerHTML = '';\n",
              "        dataTable['output_type'] = 'display_data';\n",
              "        await google.colab.output.renderOutput(dataTable, element);\n",
              "        const docLink = document.createElement('div');\n",
              "        docLink.innerHTML = docLinkHtml;\n",
              "        element.appendChild(docLink);\n",
              "      }\n",
              "    </script>\n",
              "  </div>\n",
              "\n",
              "\n",
              "<div id=\"df-81cc15f1-cca5-4f92-9f3a-6b4fe978cff6\">\n",
              "  <button class=\"colab-df-quickchart\" onclick=\"quickchart('df-81cc15f1-cca5-4f92-9f3a-6b4fe978cff6')\"\n",
              "            title=\"Suggest charts\"\n",
              "            style=\"display:none;\">\n",
              "\n",
              "<svg xmlns=\"http://www.w3.org/2000/svg\" height=\"24px\"viewBox=\"0 0 24 24\"\n",
              "     width=\"24px\">\n",
              "    <g>\n",
              "        <path d=\"M19 3H5c-1.1 0-2 .9-2 2v14c0 1.1.9 2 2 2h14c1.1 0 2-.9 2-2V5c0-1.1-.9-2-2-2zM9 17H7v-7h2v7zm4 0h-2V7h2v10zm4 0h-2v-4h2v4z\"/>\n",
              "    </g>\n",
              "</svg>\n",
              "  </button>\n",
              "\n",
              "<style>\n",
              "  .colab-df-quickchart {\n",
              "      --bg-color: #E8F0FE;\n",
              "      --fill-color: #1967D2;\n",
              "      --hover-bg-color: #E2EBFA;\n",
              "      --hover-fill-color: #174EA6;\n",
              "      --disabled-fill-color: #AAA;\n",
              "      --disabled-bg-color: #DDD;\n",
              "  }\n",
              "\n",
              "  [theme=dark] .colab-df-quickchart {\n",
              "      --bg-color: #3B4455;\n",
              "      --fill-color: #D2E3FC;\n",
              "      --hover-bg-color: #434B5C;\n",
              "      --hover-fill-color: #FFFFFF;\n",
              "      --disabled-bg-color: #3B4455;\n",
              "      --disabled-fill-color: #666;\n",
              "  }\n",
              "\n",
              "  .colab-df-quickchart {\n",
              "    background-color: var(--bg-color);\n",
              "    border: none;\n",
              "    border-radius: 50%;\n",
              "    cursor: pointer;\n",
              "    display: none;\n",
              "    fill: var(--fill-color);\n",
              "    height: 32px;\n",
              "    padding: 0;\n",
              "    width: 32px;\n",
              "  }\n",
              "\n",
              "  .colab-df-quickchart:hover {\n",
              "    background-color: var(--hover-bg-color);\n",
              "    box-shadow: 0 1px 2px rgba(60, 64, 67, 0.3), 0 1px 3px 1px rgba(60, 64, 67, 0.15);\n",
              "    fill: var(--button-hover-fill-color);\n",
              "  }\n",
              "\n",
              "  .colab-df-quickchart-complete:disabled,\n",
              "  .colab-df-quickchart-complete:disabled:hover {\n",
              "    background-color: var(--disabled-bg-color);\n",
              "    fill: var(--disabled-fill-color);\n",
              "    box-shadow: none;\n",
              "  }\n",
              "\n",
              "  .colab-df-spinner {\n",
              "    border: 2px solid var(--fill-color);\n",
              "    border-color: transparent;\n",
              "    border-bottom-color: var(--fill-color);\n",
              "    animation:\n",
              "      spin 1s steps(1) infinite;\n",
              "  }\n",
              "\n",
              "  @keyframes spin {\n",
              "    0% {\n",
              "      border-color: transparent;\n",
              "      border-bottom-color: var(--fill-color);\n",
              "      border-left-color: var(--fill-color);\n",
              "    }\n",
              "    20% {\n",
              "      border-color: transparent;\n",
              "      border-left-color: var(--fill-color);\n",
              "      border-top-color: var(--fill-color);\n",
              "    }\n",
              "    30% {\n",
              "      border-color: transparent;\n",
              "      border-left-color: var(--fill-color);\n",
              "      border-top-color: var(--fill-color);\n",
              "      border-right-color: var(--fill-color);\n",
              "    }\n",
              "    40% {\n",
              "      border-color: transparent;\n",
              "      border-right-color: var(--fill-color);\n",
              "      border-top-color: var(--fill-color);\n",
              "    }\n",
              "    60% {\n",
              "      border-color: transparent;\n",
              "      border-right-color: var(--fill-color);\n",
              "    }\n",
              "    80% {\n",
              "      border-color: transparent;\n",
              "      border-right-color: var(--fill-color);\n",
              "      border-bottom-color: var(--fill-color);\n",
              "    }\n",
              "    90% {\n",
              "      border-color: transparent;\n",
              "      border-bottom-color: var(--fill-color);\n",
              "    }\n",
              "  }\n",
              "</style>\n",
              "\n",
              "  <script>\n",
              "    async function quickchart(key) {\n",
              "      const quickchartButtonEl =\n",
              "        document.querySelector('#' + key + ' button');\n",
              "      quickchartButtonEl.disabled = true;  // To prevent multiple clicks.\n",
              "      quickchartButtonEl.classList.add('colab-df-spinner');\n",
              "      try {\n",
              "        const charts = await google.colab.kernel.invokeFunction(\n",
              "            'suggestCharts', [key], {});\n",
              "      } catch (error) {\n",
              "        console.error('Error during call to suggestCharts:', error);\n",
              "      }\n",
              "      quickchartButtonEl.classList.remove('colab-df-spinner');\n",
              "      quickchartButtonEl.classList.add('colab-df-quickchart-complete');\n",
              "    }\n",
              "    (() => {\n",
              "      let quickchartButtonEl =\n",
              "        document.querySelector('#df-81cc15f1-cca5-4f92-9f3a-6b4fe978cff6 button');\n",
              "      quickchartButtonEl.style.display =\n",
              "        google.colab.kernel.accessAllowed ? 'block' : 'none';\n",
              "    })();\n",
              "  </script>\n",
              "</div>\n",
              "\n",
              "    </div>\n",
              "  </div>\n"
            ],
            "application/vnd.google.colaboratory.intrinsic+json": {
              "type": "dataframe",
              "summary": "{\n  \"name\": \"train_df\",\n  \"rows\": 5,\n  \"fields\": [\n    {\n      \"column\": \"filename\",\n      \"properties\": {\n        \"dtype\": \"string\",\n        \"num_unique_values\": 5,\n        \"samples\": [\n          \"J/fe7baa53-68bd-4c89-bf8d-51873ebcec2a.rgb_0000.png\",\n          \"Blank/f35c7bdc-e50c-45a5-a9c2-8c7f1c225b11.rgb_0000.png\",\n          \"T/e9452ec3-7349-432c-85f3-e2899443f579.rgb_0000.png\"\n        ],\n        \"semantic_type\": \"\",\n        \"description\": \"\"\n      }\n    },\n    {\n      \"column\": \"label\",\n      \"properties\": {\n        \"dtype\": \"string\",\n        \"num_unique_values\": 5,\n        \"samples\": [\n          \"J\",\n          \"Blank\",\n          \"T\"\n        ],\n        \"semantic_type\": \"\",\n        \"description\": \"\"\n      }\n    }\n  ]\n}"
            }
          },
          "metadata": {},
          "execution_count": 5
        }
      ]
    },
    {
      "cell_type": "code",
      "source": [
        "train_df['label'].value_counts()"
      ],
      "metadata": {
        "id": "VihcjGpr_zVB",
        "outputId": "709155b1-be96-49a4-e4bc-3a11338c6c00",
        "execution": {
          "iopub.status.busy": "2023-01-05T09:34:10.473196Z",
          "iopub.execute_input": "2023-01-05T09:34:10.473608Z",
          "iopub.status.idle": "2023-01-05T09:34:10.487078Z",
          "shell.execute_reply.started": "2023-01-05T09:34:10.473574Z",
          "shell.execute_reply": "2023-01-05T09:34:10.486036Z"
        },
        "trusted": true,
        "colab": {
          "base_uri": "https://localhost:8080/"
        }
      },
      "execution_count": null,
      "outputs": [
        {
          "output_type": "execute_result",
          "data": {
            "text/plain": [
              "label\n",
              "N        161\n",
              "U        161\n",
              "Blank    160\n",
              "L        159\n",
              "A        159\n",
              "C        159\n",
              "F        159\n",
              "B        159\n",
              "E        159\n",
              "G        159\n",
              "K        159\n",
              "J        159\n",
              "H        159\n",
              "I        159\n",
              "R        159\n",
              "S        159\n",
              "P        159\n",
              "O        159\n",
              "T        159\n",
              "V        159\n",
              "Z        159\n",
              "Y        159\n",
              "W        159\n",
              "X        159\n",
              "D        159\n",
              "M        158\n",
              "Q        158\n",
              "Name: count, dtype: int64"
            ]
          },
          "metadata": {},
          "execution_count": 6
        }
      ]
    },
    {
      "cell_type": "markdown",
      "source": [
        "# Visualize sample files"
      ],
      "metadata": {
        "id": "mBYQDbYni6E3"
      }
    },
    {
      "cell_type": "code",
      "source": [
        "def show_img(path, row):\n",
        "    filename = list(row['filename'])[0]\n",
        "    label = list(row['label'])[0]\n",
        "    image = cv2.imread(path + '/' + filename)\n",
        "    image = cv2.cvtColor(image, cv2.COLOR_BGR2RGB)\n",
        "    plt.imshow(image)\n",
        "    plt.title(label)\n",
        "    plt.axis('off')\n",
        "    plt.show()"
      ],
      "metadata": {
        "id": "RrxOsTThi6E4",
        "execution": {
          "iopub.status.busy": "2023-01-05T09:34:15.83749Z",
          "iopub.execute_input": "2023-01-05T09:34:15.838415Z",
          "iopub.status.idle": "2023-01-05T09:34:15.843669Z",
          "shell.execute_reply.started": "2023-01-05T09:34:15.83838Z",
          "shell.execute_reply": "2023-01-05T09:34:15.842556Z"
        },
        "trusted": true
      },
      "execution_count": null,
      "outputs": []
    },
    {
      "cell_type": "code",
      "source": [
        "show_img(train_dir, train_df.sample(1))"
      ],
      "metadata": {
        "id": "u6wRleP_i6E5",
        "outputId": "a0c9471d-6b77-45f9-a585-51522d5eaf31",
        "execution": {
          "iopub.status.busy": "2023-01-05T09:34:15.885708Z",
          "iopub.execute_input": "2023-01-05T09:34:15.886044Z",
          "iopub.status.idle": "2023-01-05T09:34:16.097899Z",
          "shell.execute_reply.started": "2023-01-05T09:34:15.886017Z",
          "shell.execute_reply": "2023-01-05T09:34:16.096898Z"
        },
        "trusted": true,
        "colab": {
          "base_uri": "https://localhost:8080/",
          "height": 428
        }
      },
      "execution_count": null,
      "outputs": [
        {
          "output_type": "display_data",
          "data": {
            "text/plain": [
              "<Figure size 640x480 with 1 Axes>"
            ],
            "image/png": "[encoded data removed]"
          },
          "metadata": {}
        }
      ]
    },
    {
      "cell_type": "markdown",
      "source": [
        "# Split train-valid"
      ],
      "metadata": {
        "id": "JUvh89r0i6E5"
      }
    },
    {
      "cell_type": "code",
      "source": [
        "X = train_df['filename']\n",
        "y = train_df['label']\n",
        "\n",
        "X_train, X_valid, y_train, y_valid = train_test_split(X, y, stratify=y, random_state=1, test_size=0.2)\n",
        "print(X_train.shape)\n",
        "print(X_valid.shape)"
      ],
      "metadata": {
        "id": "Jt8-sgl2i6E6",
        "outputId": "e403c4b3-675d-4414-c0b2-f08e97b6e0c9",
        "execution": {
          "iopub.status.busy": "2023-01-05T09:34:21.754567Z",
          "iopub.execute_input": "2023-01-05T09:34:21.755543Z",
          "iopub.status.idle": "2023-01-05T09:34:21.782345Z",
          "shell.execute_reply.started": "2023-01-05T09:34:21.75549Z",
          "shell.execute_reply": "2023-01-05T09:34:21.781205Z"
        },
        "trusted": true,
        "colab": {
          "base_uri": "https://localhost:8080/"
        }
      },
      "execution_count": null,
      "outputs": [
        {
          "output_type": "stream",
          "name": "stdout",
          "text": [
            "(3436,)\n",
            "(860,)\n"
          ]
        }
      ]
    },
    {
      "cell_type": "code",
      "source": [
        "train = pd.concat([X_train, y_train], axis=1)\n",
        "valid = pd.concat([X_valid, y_valid], axis=1)\n",
        "test = test_df"
      ],
      "metadata": {
        "id": "i3NHHcONi6E7",
        "execution": {
          "iopub.status.busy": "2023-01-05T09:34:23.05053Z",
          "iopub.execute_input": "2023-01-05T09:34:23.051507Z",
          "iopub.status.idle": "2023-01-05T09:34:23.060183Z",
          "shell.execute_reply.started": "2023-01-05T09:34:23.051445Z",
          "shell.execute_reply": "2023-01-05T09:34:23.059141Z"
        },
        "trusted": true
      },
      "execution_count": null,
      "outputs": []
    },
    {
      "cell_type": "code",
      "source": [
        "IMAGE_SIZE = (224, 224)\n",
        "\n",
        "datagen = ImageDataGenerator(\n",
        "    rescale=1./255,\n",
        "#     rotation_range=40,\n",
        "    zoom_range=0.2,\n",
        "    width_shift_range=0.05,\n",
        "    height_shift_range=0.05,\n",
        "#     brightness_range=[0.5, 1.0],\n",
        ")\n",
        "\n",
        "train_generator = datagen.flow_from_dataframe(\n",
        "    dataframe = train,\n",
        "    directory = train_dir,\n",
        "    x_col='filename',\n",
        "    y_col='label',\n",
        "    batch_size=32,\n",
        "    # color_mode=\"rgb\",\n",
        "    seed=42,\n",
        "    shuffle=True,\n",
        "    class_mode='sparse',\n",
        "    target_size=IMAGE_SIZE\n",
        ")\n",
        "\n",
        "valid_generator=datagen.flow_from_dataframe(\n",
        "    dataframe=valid,\n",
        "    directory=train_dir,\n",
        "    x_col=\"filename\",\n",
        "    y_col=\"label\",\n",
        "    batch_size=32,\n",
        "    # color_mode=\"rgb\",\n",
        "    seed=42,\n",
        "    shuffle=True,\n",
        "    class_mode=\"sparse\",\n",
        "    target_size=IMAGE_SIZE\n",
        ")\n",
        "\n",
        "test_datagen=ImageDataGenerator(rescale=1./255.)\n",
        "\n",
        "test_generator=test_datagen.flow_from_dataframe(\n",
        "    dataframe=test,\n",
        "    directory=test_dir,\n",
        "    x_col=\"filename\",\n",
        "    y_col=None,\n",
        "    batch_size=1,\n",
        "    # color_mode=\"rgb\",\n",
        "    seed=42,\n",
        "    shuffle=False,\n",
        "    class_mode=None,\n",
        "    target_size=IMAGE_SIZE\n",
        ")"
      ],
      "metadata": {
        "id": "wDpnFjnLi6E7",
        "outputId": "63fa0c27-2830-419a-8087-7ce94b9c3c2f",
        "execution": {
          "iopub.status.busy": "2023-01-05T09:37:24.741012Z",
          "iopub.execute_input": "2023-01-05T09:37:24.741558Z",
          "iopub.status.idle": "2023-01-05T09:38:16.647417Z",
          "shell.execute_reply.started": "2023-01-05T09:37:24.741516Z",
          "shell.execute_reply": "2023-01-05T09:38:16.646383Z"
        },
        "trusted": true,
        "colab": {
          "base_uri": "https://localhost:8080/"
        }
      },
      "execution_count": null,
      "outputs": [
        {
          "output_type": "stream",
          "name": "stdout",
          "text": [
            "Found 3436 validated image filenames belonging to 27 classes.\n",
            "Found 860 validated image filenames belonging to 27 classes.\n",
            "Found 1054 validated image filenames.\n"
          ]
        }
      ]
    },
    {
      "cell_type": "markdown",
      "source": [
        "# Modelling"
      ],
      "metadata": {
        "id": "lxFlWSmGi6E8"
      }
    },
    {
      "cell_type": "markdown",
      "source": [
        "## ResNetV250"
      ],
      "metadata": {
        "id": "jJ5wHOZxi6FC"
      }
    },
    {
      "cell_type": "markdown",
      "source": [
        "### Trained with 20 epochs"
      ],
      "metadata": {
        "id": "KvWV_E7ZnDBZ"
      }
    },
    {
      "cell_type": "code",
      "source": [
        "cb = [callbacks.ModelCheckpoint('model_resnet.hdf5', save_best_only=True, monitor='val_loss')]"
      ],
      "metadata": {
        "id": "mvq-R-qo1SES",
        "execution": {
          "iopub.status.busy": "2023-01-05T09:38:16.649369Z",
          "iopub.execute_input": "2023-01-05T09:38:16.650372Z",
          "iopub.status.idle": "2023-01-05T09:38:16.657142Z",
          "shell.execute_reply.started": "2023-01-05T09:38:16.650333Z",
          "shell.execute_reply": "2023-01-05T09:38:16.656137Z"
        },
        "trusted": true
      },
      "execution_count": null,
      "outputs": []
    },
    {
      "cell_type": "code",
      "source": [
        "tf.keras.backend.clear_session()\n",
        "tf.random.set_seed(42)\n",
        "n_class = 27\n",
        "\n",
        "base_model = tf.keras.applications.ResNet50V2(include_top=False)\n",
        "base_model.trainable = False\n",
        "\n",
        "inputs = Input(shape=IMAGE_SIZE + (3,), name='input_layer')\n",
        "out = base_model(inputs, training=False)\n",
        "out = GlobalAveragePooling2D()(out)\n",
        "out = Dense(128, activation='relu')(out)\n",
        "# out = Dropout(0.2)(out)\n",
        "out = Dense(n_class, activation='softmax', name='output_layer')(out)\n",
        "model_resnet = keras.Model(inputs, out)\n",
        "\n",
        "model_resnet.compile(loss='sparse_categorical_crossentropy',\n",
        "                     optimizer=optimizers.Adamax(learning_rate=1e-4),\n",
        "                     metrics=['accuracy'])\n",
        "\n",
        "model_resnet.summary()"
      ],
      "metadata": {
        "id": "OG6iFMSUi6FC",
        "outputId": "222b59e2-e971-4ce9-8661-53e0f8d39d74",
        "execution": {
          "iopub.status.busy": "2023-01-05T09:41:55.226943Z",
          "iopub.execute_input": "2023-01-05T09:41:55.227301Z",
          "iopub.status.idle": "2023-01-05T09:41:57.186577Z",
          "shell.execute_reply.started": "2023-01-05T09:41:55.227271Z",
          "shell.execute_reply": "2023-01-05T09:41:57.185536Z"
        },
        "trusted": true,
        "colab": {
          "base_uri": "https://localhost:8080/"
        }
      },
      "execution_count": null,
      "outputs": [
        {
          "output_type": "stream",
          "name": "stdout",
          "text": [
            "Downloading data from https://storage.googleapis.com/tensorflow/keras-applications/resnet/resnet50v2_weights_tf_dim_ordering_tf_kernels_notop.h5\n",
            "94668760/94668760 [==============================] - 4s 0us/step\n",
            "Model: \"model\"\n",
            "_________________________________________________________________\n",
            " Layer (type)                Output Shape              Param #   \n",
            "=================================================================\n",
            " input_layer (InputLayer)    [(None, 224, 224, 3)]     0         \n",
            "                                                                 \n",
            " resnet50v2 (Functional)     (None, None, None, 2048   23564800  \n",
            "                             )                                   \n",
            "                                                                 \n",
            " global_average_pooling2d (  (None, 2048)              0         \n",
            " GlobalAveragePooling2D)                                         \n",
            "                                                                 \n",
            " dense (Dense)               (None, 128)               262272    \n",
            "                                                                 \n",
            " output_layer (Dense)        (None, 27)                3483      \n",
            "                                                                 \n",
            "=================================================================\n",
            "Total params: 23830555 (90.91 MB)\n",
            "Trainable params: 265755 (1.01 MB)\n",
            "Non-trainable params: 23564800 (89.89 MB)\n",
            "_________________________________________________________________\n"
          ]
        }
      ]
    },
    {
      "cell_type": "code",
      "source": [
        "history_resnet = model_resnet.fit(train_generator, epochs=20,\n",
        "                                  validation_data=valid_generator,\n",
        "                                  batch_size=128,\n",
        "                                  callbacks=cb)"
      ],
      "metadata": {
        "id": "0Nctfu6l1kEP",
        "outputId": "aa2b5de2-de08-4812-c120-b8c8a4d1e244",
        "execution": {
          "iopub.status.busy": "2023-01-05T09:42:02.921719Z",
          "iopub.execute_input": "2023-01-05T09:42:02.92247Z",
          "iopub.status.idle": "2023-01-05T12:36:45.05993Z",
          "shell.execute_reply.started": "2023-01-05T09:42:02.922415Z",
          "shell.execute_reply": "2023-01-05T12:36:45.058896Z"
        },
        "trusted": true,
        "colab": {
          "base_uri": "https://localhost:8080/"
        }
      },
      "execution_count": null,
      "outputs": [
        {
          "output_type": "stream",
          "name": "stdout",
          "text": [
            "Epoch 1/20\n",
            "108/108 [==============================] - 3565s 33s/step - loss: 3.1793 - accuracy: 0.1196 - val_loss: 2.8162 - val_accuracy: 0.2233\n",
            "Epoch 2/20\n",
            "108/108 [==============================] - 890s 8s/step - loss: 2.5650 - accuracy: 0.3050 - val_loss: 2.3417 - val_accuracy: 0.3698\n",
            "Epoch 3/20\n",
            "108/108 [==============================] - 880s 8s/step - loss: 2.1325 - accuracy: 0.4444 - val_loss: 1.9347 - val_accuracy: 0.5116\n",
            "Epoch 4/20\n",
            "108/108 [==============================] - 883s 8s/step - loss: 1.7983 - accuracy: 0.5597 - val_loss: 1.6597 - val_accuracy: 0.6093\n",
            "Epoch 5/20\n",
            "108/108 [==============================] - 869s 8s/step - loss: 1.5372 - accuracy: 0.6481 - val_loss: 1.4475 - val_accuracy: 0.6407\n",
            "Epoch 6/20\n",
            "108/108 [==============================] - 880s 8s/step - loss: 1.3470 - accuracy: 0.6950 - val_loss: 1.3000 - val_accuracy: 0.6965\n",
            "Epoch 7/20\n",
            "108/108 [==============================] - 881s 8s/step - loss: 1.1933 - accuracy: 0.7366 - val_loss: 1.1400 - val_accuracy: 0.7465\n",
            "Epoch 8/20\n",
            "108/108 [==============================] - 905s 8s/step - loss: 1.0645 - accuracy: 0.7646 - val_loss: 1.0503 - val_accuracy: 0.7616\n",
            "Epoch 9/20\n",
            "108/108 [==============================] - 909s 8s/step - loss: 0.9603 - accuracy: 0.7954 - val_loss: 0.9403 - val_accuracy: 0.8000\n",
            "Epoch 10/20\n",
            "108/108 [==============================] - 888s 8s/step - loss: 0.8920 - accuracy: 0.8076 - val_loss: 0.8748 - val_accuracy: 0.8035\n",
            "Epoch 11/20\n",
            "108/108 [==============================] - 882s 8s/step - loss: 0.8176 - accuracy: 0.8245 - val_loss: 0.8077 - val_accuracy: 0.8140\n",
            "Epoch 12/20\n",
            "108/108 [==============================] - 881s 8s/step - loss: 0.7691 - accuracy: 0.8289 - val_loss: 0.7436 - val_accuracy: 0.8465\n",
            "Epoch 13/20\n",
            "108/108 [==============================] - 883s 8s/step - loss: 0.6957 - accuracy: 0.8545 - val_loss: 0.7292 - val_accuracy: 0.8407\n",
            "Epoch 14/20\n",
            "108/108 [==============================] - 884s 8s/step - loss: 0.6506 - accuracy: 0.8638 - val_loss: 0.6597 - val_accuracy: 0.8640\n",
            "Epoch 15/20\n",
            "108/108 [==============================] - 921s 9s/step - loss: 0.6194 - accuracy: 0.8705 - val_loss: 0.6306 - val_accuracy: 0.8698\n",
            "Epoch 16/20\n",
            "108/108 [==============================] - 913s 8s/step - loss: 0.5860 - accuracy: 0.8795 - val_loss: 0.6024 - val_accuracy: 0.8686\n",
            "Epoch 17/20\n",
            "108/108 [==============================] - 910s 8s/step - loss: 0.5509 - accuracy: 0.8909 - val_loss: 0.5962 - val_accuracy: 0.8616\n",
            "Epoch 18/20\n",
            "108/108 [==============================] - 893s 8s/step - loss: 0.5237 - accuracy: 0.8868 - val_loss: 0.5366 - val_accuracy: 0.8802\n",
            "Epoch 19/20\n",
            "108/108 [==============================] - 879s 8s/step - loss: 0.5077 - accuracy: 0.8932 - val_loss: 0.5412 - val_accuracy: 0.8605\n",
            "Epoch 20/20\n",
            "108/108 [==============================] - 892s 8s/step - loss: 0.4663 - accuracy: 0.9098 - val_loss: 0.4973 - val_accuracy: 0.8837\n"
          ]
        }
      ]
    },
    {
      "cell_type": "code",
      "source": [
        "history_resnet_temp = history_resnet"
      ],
      "metadata": {
        "execution": {
          "iopub.status.busy": "2023-01-05T12:36:54.608848Z",
          "iopub.execute_input": "2023-01-05T12:36:54.609209Z",
          "iopub.status.idle": "2023-01-05T12:36:54.614098Z",
          "shell.execute_reply.started": "2023-01-05T12:36:54.609179Z",
          "shell.execute_reply": "2023-01-05T12:36:54.613177Z"
        },
        "trusted": true,
        "id": "ntrlVJXcnDBc"
      },
      "execution_count": null,
      "outputs": []
    },
    {
      "cell_type": "code",
      "source": [
        "fig, ax = plt.subplots(nrows = 1, ncols = 2, figsize = (12,6))\n",
        "\n",
        "ax[0].plot(history_resnet_temp.history['accuracy'], '-', label = 'Training Accuracy')\n",
        "ax[0].plot(history_resnet_temp.history['val_accuracy'], '-', label = 'Validation Accuracy')\n",
        "ax[0].set_xlabel('Epochs')\n",
        "ax[0].set_ylabel('Accuracy')\n",
        "ax[0].set_title('Epochs & Training Accuracy', fontsize=20)\n",
        "ax[0].legend(loc='best')\n",
        "\n",
        "ax[1].plot(history_resnet_temp.history['loss'], '-', label = 'Training loss')\n",
        "ax[1].plot(history_resnet_temp.history['val_loss'], '-', label = 'Validation loss')\n",
        "ax[1].set_xlabel('Epochs')\n",
        "ax[1].set_ylabel('loss')\n",
        "ax[1].set_title('Epochs & Training loss', fontsize=20)\n",
        "ax[1].legend(loc='best')\n",
        "\n",
        "plt.show()"
      ],
      "metadata": {
        "id": "HfL9AJzyImwl",
        "outputId": "fa1abf73-4217-436f-9dcc-eb1081cc7b32",
        "execution": {
          "iopub.status.busy": "2023-01-05T12:37:12.72591Z",
          "iopub.execute_input": "2023-01-05T12:37:12.726288Z",
          "iopub.status.idle": "2023-01-05T12:37:13.070431Z",
          "shell.execute_reply.started": "2023-01-05T12:37:12.726255Z",
          "shell.execute_reply": "2023-01-05T12:37:13.069521Z"
        },
        "trusted": true,
        "colab": {
          "base_uri": "https://localhost:8080/",
          "height": 465
        }
      },
      "execution_count": null,
      "outputs": [
        {
          "output_type": "display_data",
          "data": {
            "text/plain": [
              "<Figure size 1200x600 with 2 Axes>"
            ],
            "image/png": "[encoded data removed]"
          },
          "metadata": {}
        }
      ]
    },
    {
      "cell_type": "markdown",
      "source": [
        "> The model seems to perform well, and it was a good-fit, but it could've more accuracy by adding more epochs."
      ],
      "metadata": {
        "id": "Gnkxj1_fnDBd"
      }
    },
    {
      "cell_type": "code",
      "source": [
        "test_generator.reset()\n",
        "pred_resnet = model_resnet.predict(test_generator, verbose=1)"
      ],
      "metadata": {
        "id": "SNCJZ-lyATDv",
        "outputId": "c53e3d08-c421-4af2-fa3b-3cbcd27213a4",
        "execution": {
          "iopub.status.busy": "2023-01-05T12:38:07.09379Z",
          "iopub.execute_input": "2023-01-05T12:38:07.094149Z",
          "iopub.status.idle": "2023-01-05T12:39:04.646415Z",
          "shell.execute_reply.started": "2023-01-05T12:38:07.094118Z",
          "shell.execute_reply": "2023-01-05T12:39:04.645518Z"
        },
        "trusted": true,
        "colab": {
          "base_uri": "https://localhost:8080/"
        }
      },
      "execution_count": null,
      "outputs": [
        {
          "output_type": "stream",
          "name": "stdout",
          "text": [
            "1054/1054 [==============================] - 789s 747ms/step\n"
          ]
        }
      ]
    },
    {
      "cell_type": "code",
      "source": [
        "pred_resnet = np.argmax(pred_resnet,axis=1)\n",
        "labels = (train_generator.class_indices)\n",
        "labels = dict((v,k) for k,v in labels.items())\n",
        "pred_resnet = [labels[k] for k in pred_resnet]"
      ],
      "metadata": {
        "id": "tOC33XwrItAb",
        "execution": {
          "iopub.status.busy": "2023-01-05T12:39:19.644564Z",
          "iopub.execute_input": "2023-01-05T12:39:19.645107Z",
          "iopub.status.idle": "2023-01-05T12:39:19.655724Z",
          "shell.execute_reply.started": "2023-01-05T12:39:19.645075Z",
          "shell.execute_reply": "2023-01-05T12:39:19.654628Z"
        },
        "trusted": true
      },
      "execution_count": null,
      "outputs": []
    },
    {
      "cell_type": "code",
      "source": [
        "accuracy_score(test['label'], pred_resnet)"
      ],
      "metadata": {
        "id": "m76sRExGI6QW",
        "outputId": "992dbaf7-3b53-4f2e-fb5b-c1b29e6002f7",
        "execution": {
          "iopub.status.busy": "2023-01-05T12:39:22.07001Z",
          "iopub.execute_input": "2023-01-05T12:39:22.070365Z",
          "iopub.status.idle": "2023-01-05T12:39:22.085279Z",
          "shell.execute_reply.started": "2023-01-05T12:39:22.070334Z",
          "shell.execute_reply": "2023-01-05T12:39:22.084431Z"
        },
        "trusted": true,
        "colab": {
          "base_uri": "https://localhost:8080/"
        }
      },
      "execution_count": null,
      "outputs": [
        {
          "output_type": "execute_result",
          "data": {
            "text/plain": [
              "0.9089184060721063"
            ]
          },
          "metadata": {},
          "execution_count": 19
        }
      ]
    },
    {
      "cell_type": "code",
      "source": [
        "print(classification_report(test['label'], pred_resnet))"
      ],
      "metadata": {
        "id": "eVod3mS1I8-e",
        "outputId": "cdd77168-0195-4753-b56a-ec33a5db3b32",
        "execution": {
          "iopub.status.busy": "2023-01-05T12:39:24.236866Z",
          "iopub.execute_input": "2023-01-05T12:39:24.237228Z",
          "iopub.status.idle": "2023-01-05T12:39:24.2811Z",
          "shell.execute_reply.started": "2023-01-05T12:39:24.237197Z",
          "shell.execute_reply": "2023-01-05T12:39:24.280049Z"
        },
        "trusted": true,
        "colab": {
          "base_uri": "https://localhost:8080/"
        }
      },
      "execution_count": null,
      "outputs": [
        {
          "output_type": "stream",
          "name": "stdout",
          "text": [
            "              precision    recall  f1-score   support\n",
            "\n",
            "           A       0.97      0.92      0.95        39\n",
            "           B       0.97      0.95      0.96        39\n",
            "       Blank       1.00      1.00      1.00        39\n",
            "           C       1.00      0.85      0.92        39\n",
            "           D       0.83      0.87      0.85        39\n",
            "           E       0.82      0.69      0.75        39\n",
            "           F       0.97      0.90      0.93        39\n",
            "           G       0.97      0.90      0.93        39\n",
            "           H       0.95      0.95      0.95        39\n",
            "           I       0.86      0.97      0.92        39\n",
            "           J       0.93      0.95      0.94        39\n",
            "           K       0.90      0.97      0.94        39\n",
            "           L       1.00      0.92      0.96        39\n",
            "           M       0.71      0.69      0.70        39\n",
            "           N       0.84      0.92      0.88        39\n",
            "           O       0.88      0.97      0.93        39\n",
            "           P       0.93      1.00      0.96        39\n",
            "           Q       1.00      0.95      0.97        39\n",
            "           R       0.97      0.87      0.92        39\n",
            "           S       0.82      0.95      0.88        39\n",
            "           T       0.92      0.87      0.89        39\n",
            "           U       0.97      0.92      0.95        39\n",
            "           V       0.94      0.74      0.83        39\n",
            "           W       0.85      0.87      0.86        39\n",
            "           X       0.78      0.97      0.86        39\n",
            "           Y       0.97      0.97      0.97        40\n",
            "           Z       0.88      0.97      0.93        39\n",
            "\n",
            "    accuracy                           0.91      1054\n",
            "   macro avg       0.91      0.91      0.91      1054\n",
            "weighted avg       0.91      0.91      0.91      1054\n",
            "\n"
          ]
        }
      ]
    },
    {
      "cell_type": "code",
      "source": [
        "model_resnet.save('resnet50v2_20_ep.hdf5')"
      ],
      "metadata": {
        "execution": {
          "iopub.status.busy": "2023-01-05T12:39:55.178438Z",
          "iopub.execute_input": "2023-01-05T12:39:55.179419Z",
          "iopub.status.idle": "2023-01-05T12:39:55.608174Z",
          "shell.execute_reply.started": "2023-01-05T12:39:55.179382Z",
          "shell.execute_reply": "2023-01-05T12:39:55.607165Z"
        },
        "trusted": true,
        "id": "-bDo6aD9nDBf"
      },
      "execution_count": null,
      "outputs": []
    }
  ]
}