{
  "nbformat": 4,
  "nbformat_minor": 0,
  "metadata": {
    "colab": {
      "provenance": []
    },
    "kernelspec": {
      "name": "python3",
      "display_name": "Python 3"
    },
    "language_info": {
      "name": "python"
    }
  },
  "cells": [
    {
      "cell_type": "code",
      "source": [
        "!pip install rembg"
      ],
      "metadata": {
        "colab": {
          "base_uri": "https://localhost:8080/"
        },
        "id": "AhCHoyv_EjQ6",
        "outputId": "b4401de9-3ecc-4957-ac7a-5122d0c6a45a"
      },
      "execution_count": null,
      "outputs": [
        {
          "output_type": "stream",
          "name": "stdout",
          "text": [
            "Requirement already satisfied: rembg in /usr/local/lib/python3.10/dist-packages (2.0.56)\n",
            "Requirement already satisfied: jsonschema in /usr/local/lib/python3.10/dist-packages (from rembg) (4.19.2)\n",
            "Requirement already satisfied: numpy in /usr/local/lib/python3.10/dist-packages (from rembg) (1.25.2)\n",
            "Requirement already satisfied: onnxruntime in /usr/local/lib/python3.10/dist-packages (from rembg) (1.17.3)\n",
            "Requirement already satisfied: opencv-python-headless in /usr/local/lib/python3.10/dist-packages (from rembg) (4.9.0.80)\n",
            "Requirement already satisfied: pillow in /usr/local/lib/python3.10/dist-packages (from rembg) (9.4.0)\n",
            "Requirement already satisfied: pooch in /usr/local/lib/python3.10/dist-packages (from rembg) (1.8.1)\n",
            "Requirement already satisfied: pymatting in /usr/local/lib/python3.10/dist-packages (from rembg) (1.1.12)\n",
            "Requirement already satisfied: scikit-image in /usr/local/lib/python3.10/dist-packages (from rembg) (0.19.3)\n",
            "Requirement already satisfied: scipy in /usr/local/lib/python3.10/dist-packages (from rembg) (1.11.4)\n",
            "Requirement already satisfied: tqdm in /usr/local/lib/python3.10/dist-packages (from rembg) (4.66.2)\n",
            "Requirement already satisfied: attrs>=22.2.0 in /usr/local/lib/python3.10/dist-packages (from jsonschema->rembg) (23.2.0)\n",
            "Requirement already satisfied: jsonschema-specifications>=2023.03.6 in /usr/local/lib/python3.10/dist-packages (from jsonschema->rembg) (2023.12.1)\n",
            "Requirement already satisfied: referencing>=0.28.4 in /usr/local/lib/python3.10/dist-packages (from jsonschema->rembg) (0.35.0)\n",
            "Requirement already satisfied: rpds-py>=0.7.1 in /usr/local/lib/python3.10/dist-packages (from jsonschema->rembg) (0.18.0)\n",
            "Requirement already satisfied: coloredlogs in /usr/local/lib/python3.10/dist-packages (from onnxruntime->rembg) (15.0.1)\n",
            "Requirement already satisfied: flatbuffers in /usr/local/lib/python3.10/dist-packages (from onnxruntime->rembg) (24.3.25)\n",
            "Requirement already satisfied: packaging in /usr/local/lib/python3.10/dist-packages (from onnxruntime->rembg) (24.0)\n",
            "Requirement already satisfied: protobuf in /usr/local/lib/python3.10/dist-packages (from onnxruntime->rembg) (3.20.3)\n",
            "Requirement already satisfied: sympy in /usr/local/lib/python3.10/dist-packages (from onnxruntime->rembg) (1.12)\n",
            "Requirement already satisfied: platformdirs>=2.5.0 in /usr/local/lib/python3.10/dist-packages (from pooch->rembg) (4.2.1)\n",
            "Requirement already satisfied: requests>=2.19.0 in /usr/local/lib/python3.10/dist-packages (from pooch->rembg) (2.31.0)\n",
            "Requirement already satisfied: numba!=0.49.0 in /usr/local/lib/python3.10/dist-packages (from pymatting->rembg) (0.58.1)\n",
            "Requirement already satisfied: networkx>=2.2 in /usr/local/lib/python3.10/dist-packages (from scikit-image->rembg) (3.3)\n",
            "Requirement already satisfied: imageio>=2.4.1 in /usr/local/lib/python3.10/dist-packages (from scikit-image->rembg) (2.31.6)\n",
            "Requirement already satisfied: tifffile>=2019.7.26 in /usr/local/lib/python3.10/dist-packages (from scikit-image->rembg) (2024.4.24)\n",
            "Requirement already satisfied: PyWavelets>=1.1.1 in /usr/local/lib/python3.10/dist-packages (from scikit-image->rembg) (1.6.0)\n",
            "Requirement already satisfied: llvmlite<0.42,>=0.41.0dev0 in /usr/local/lib/python3.10/dist-packages (from numba!=0.49.0->pymatting->rembg) (0.41.1)\n",
            "Requirement already satisfied: charset-normalizer<4,>=2 in /usr/local/lib/python3.10/dist-packages (from requests>=2.19.0->pooch->rembg) (3.3.2)\n",
            "Requirement already satisfied: idna<4,>=2.5 in /usr/local/lib/python3.10/dist-packages (from requests>=2.19.0->pooch->rembg) (3.7)\n",
            "Requirement already satisfied: urllib3<3,>=1.21.1 in /usr/local/lib/python3.10/dist-packages (from requests>=2.19.0->pooch->rembg) (2.0.7)\n",
            "Requirement already satisfied: certifi>=2017.4.17 in /usr/local/lib/python3.10/dist-packages (from requests>=2.19.0->pooch->rembg) (2024.2.2)\n",
            "Requirement already satisfied: humanfriendly>=9.1 in /usr/local/lib/python3.10/dist-packages (from coloredlogs->onnxruntime->rembg) (10.0)\n",
            "Requirement already satisfied: mpmath>=0.19 in /usr/local/lib/python3.10/dist-packages (from sympy->onnxruntime->rembg) (1.3.0)\n"
          ]
        }
      ]
    },
    {
      "cell_type": "code",
      "source": [
        "# remove background for class\n",
        "import cv2\n",
        "import numpy as np\n",
        "from PIL import Image\n",
        "import os\n",
        "import rembg\n",
        "\n",
        "# Define the directory path of the images for a specific class\n",
        "class_dir = '/content/drive/MyDrive/IP_dataset_minimized/Test_Alphabet/Z'\n",
        "\n",
        "# Iterate through the images in the class directory\n",
        "for filename in os.listdir(class_dir):\n",
        "    if filename.endswith(('.jpg', '.JPG', '.png', '.jpeg', '.JPEG')):  # Adjust the file extensions if necessary\n",
        "        # Open the image\n",
        "        image_path = os.path.join(class_dir, filename)\n",
        "        try:\n",
        "            # Load the input image\n",
        "            input_image = Image.open(image_path)\n",
        "\n",
        "            # Convert the input image to a numpy array\n",
        "            input_array = np.array(input_image)\n",
        "\n",
        "            # Apply background removal using rembg\n",
        "            output_array = rembg.remove(input_array)\n",
        "\n",
        "            # Create a PIL Image from the output array\n",
        "            output_image = Image.fromarray(output_array)\n",
        "\n",
        "            # Save the output image by overwriting the original image\n",
        "            output_image.save(image_path)\n",
        "\n",
        "        except Exception as e:\n",
        "            print(f\"Error occurred while processing {filename}: {str(e)}\")"
      ],
      "metadata": {
        "id": "hDRyscR2B4w3"
      },
      "execution_count": null,
      "outputs": []
    },
    {
      "cell_type": "code",
      "source": [
        "#sobel for class\n",
        "import cv2\n",
        "import numpy as np\n",
        "from matplotlib import pyplot as plt\n",
        "import os\n",
        "\n",
        "# Define the directory path of the images for a specific class\n",
        "class_dir = '/content/drive/MyDrive/IP_dataset_minimized/Test_Alphabet/New folder'\n",
        "\n",
        "# Iterate through the images in the class directory\n",
        "for filename in os.listdir(class_dir):\n",
        "    if filename.endswith(('.jpg', '.JPG', '.png', '.jpeg', '.JPEG')):  # Adjust the file extensions if necessary\n",
        "        # Open the image\n",
        "        image_path = os.path.join(class_dir, filename)\n",
        "        try:\n",
        "            # Read the input image as grayscale\n",
        "            image = cv2.imread(image_path, cv2.IMREAD_GRAYSCALE)\n",
        "\n",
        "            # Sobel Edge Detection\n",
        "            sobelx = cv2.Sobel(image, cv2.CV_64F, 1, 0, ksize=5)  # x direction\n",
        "            sobely = cv2.Sobel(image, cv2.CV_64F, 0, 1, ksize=5)  # y direction\n",
        "\n",
        "            # Calculate the gradient magnitude\n",
        "            gradient_magnitude = np.sqrt(sobelx**2 + sobely**2)\n",
        "\n",
        "            # Save the gradient magnitude image by overwriting the original image\n",
        "            cv2.imwrite(image_path, gradient_magnitude)\n",
        "\n",
        "        except Exception as e:\n",
        "            print(f\"Error occurred while processing {filename}: {str(e)}\")"
      ],
      "metadata": {
        "id": "_mqi8YgrQgom"
      },
      "execution_count": null,
      "outputs": []
    },
    {
      "cell_type": "code",
      "source": [
        "import cv2\n",
        "import numpy as np\n",
        "import os\n",
        "\n",
        "# Define the directory path of the images for a specific class\n",
        "class_dir = '/content/drive/MyDrive/IP_dataset_minimized/Test_Alphabet/New folder'\n",
        "\n",
        "# Iterate through the images in the class directory\n",
        "for filename in os.listdir(class_dir):\n",
        "    if filename.endswith(('.jpg', '.JPG', '.png', '.jpeg', '.JPEG')):  # Adjust the file extensions if necessary\n",
        "        # Open the image\n",
        "        image_path = os.path.join(class_dir, filename)\n",
        "        try:\n",
        "            # Read the input image\n",
        "            image = cv2.imread(image_path)\n",
        "\n",
        "            # Convert the image to grayscale\n",
        "            gray_image = cv2.cvtColor(image, cv2.COLOR_BGR2GRAY)\n",
        "\n",
        "            # Normalize the grayscale image\n",
        "            normalized_image = cv2.normalize(gray_image, None, 0, 255, cv2.NORM_MINMAX)\n",
        "\n",
        "            # Apply Otsu's thresholding to obtain a binary image\n",
        "            _, binary_image = cv2.threshold(normalized_image, 200, 255, cv2.THRESH_BINARY_INV + cv2.THRESH_OTSU)\n",
        "\n",
        "            # Save the binary image by overwriting the original image\n",
        "            cv2.imwrite(image_path, binary_image)\n",
        "\n",
        "        except Exception as e:\n",
        "            print(f\"Error occurred while processing {filename}: {str(e)}\")"
      ],
      "metadata": {
        "id": "rl3Q1FeBcl0H"
      },
      "execution_count": null,
      "outputs": []
    }
  ]
}